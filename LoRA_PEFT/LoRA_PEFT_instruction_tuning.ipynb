{
 "cells": [
  {
   "cell_type": "code",
   "execution_count": 1,
   "metadata": {
    "execution": {
     "iopub.execute_input": "2024-11-26T19:03:58.234039Z",
     "iopub.status.busy": "2024-11-26T19:03:58.233642Z",
     "iopub.status.idle": "2024-11-26T19:04:32.144003Z",
     "shell.execute_reply": "2024-11-26T19:04:32.142915Z",
     "shell.execute_reply.started": "2024-11-26T19:03:58.233982Z"
    },
    "trusted": true
   },
   "outputs": [
    {
     "name": "stdout",
     "output_type": "stream",
     "text": [
      "Requirement already satisfied: peft in /opt/conda/lib/python3.10/site-packages (0.13.2)\n",
      "Requirement already satisfied: numpy>=1.17 in /opt/conda/lib/python3.10/site-packages (from peft) (1.26.4)\n",
      "Requirement already satisfied: packaging>=20.0 in /opt/conda/lib/python3.10/site-packages (from peft) (21.3)\n",
      "Requirement already satisfied: psutil in /opt/conda/lib/python3.10/site-packages (from peft) (5.9.3)\n",
      "Requirement already satisfied: pyyaml in /opt/conda/lib/python3.10/site-packages (from peft) (6.0.2)\n",
      "Requirement already satisfied: torch>=1.13.0 in /opt/conda/lib/python3.10/site-packages (from peft) (2.4.0)\n",
      "Requirement already satisfied: transformers in /opt/conda/lib/python3.10/site-packages (from peft) (4.45.1)\n",
      "Requirement already satisfied: tqdm in /opt/conda/lib/python3.10/site-packages (from peft) (4.66.4)\n",
      "Requirement already satisfied: accelerate>=0.21.0 in /opt/conda/lib/python3.10/site-packages (from peft) (0.34.2)\n",
      "Requirement already satisfied: safetensors in /opt/conda/lib/python3.10/site-packages (from peft) (0.4.5)\n",
      "Requirement already satisfied: huggingface-hub>=0.17.0 in /opt/conda/lib/python3.10/site-packages (from peft) (0.25.1)\n",
      "Requirement already satisfied: filelock in /opt/conda/lib/python3.10/site-packages (from huggingface-hub>=0.17.0->peft) (3.15.1)\n",
      "Requirement already satisfied: fsspec>=2023.5.0 in /opt/conda/lib/python3.10/site-packages (from huggingface-hub>=0.17.0->peft) (2024.6.1)\n",
      "Requirement already satisfied: requests in /opt/conda/lib/python3.10/site-packages (from huggingface-hub>=0.17.0->peft) (2.32.3)\n",
      "Requirement already satisfied: typing-extensions>=3.7.4.3 in /opt/conda/lib/python3.10/site-packages (from huggingface-hub>=0.17.0->peft) (4.12.2)\n",
      "Requirement already satisfied: pyparsing!=3.0.5,>=2.0.2 in /opt/conda/lib/python3.10/site-packages (from packaging>=20.0->peft) (3.1.2)\n",
      "Requirement already satisfied: sympy in /opt/conda/lib/python3.10/site-packages (from torch>=1.13.0->peft) (1.13.3)\n",
      "Requirement already satisfied: networkx in /opt/conda/lib/python3.10/site-packages (from torch>=1.13.0->peft) (3.3)\n",
      "Requirement already satisfied: jinja2 in /opt/conda/lib/python3.10/site-packages (from torch>=1.13.0->peft) (3.1.4)\n",
      "Requirement already satisfied: regex!=2019.12.17 in /opt/conda/lib/python3.10/site-packages (from transformers->peft) (2024.5.15)\n",
      "Requirement already satisfied: tokenizers<0.21,>=0.20 in /opt/conda/lib/python3.10/site-packages (from transformers->peft) (0.20.0)\n",
      "Requirement already satisfied: MarkupSafe>=2.0 in /opt/conda/lib/python3.10/site-packages (from jinja2->torch>=1.13.0->peft) (2.1.5)\n",
      "Requirement already satisfied: charset-normalizer<4,>=2 in /opt/conda/lib/python3.10/site-packages (from requests->huggingface-hub>=0.17.0->peft) (3.3.2)\n",
      "Requirement already satisfied: idna<4,>=2.5 in /opt/conda/lib/python3.10/site-packages (from requests->huggingface-hub>=0.17.0->peft) (3.7)\n",
      "Requirement already satisfied: urllib3<3,>=1.21.1 in /opt/conda/lib/python3.10/site-packages (from requests->huggingface-hub>=0.17.0->peft) (1.26.18)\n",
      "Requirement already satisfied: certifi>=2017.4.17 in /opt/conda/lib/python3.10/site-packages (from requests->huggingface-hub>=0.17.0->peft) (2024.8.30)\n",
      "Requirement already satisfied: mpmath<1.4,>=1.1.0 in /opt/conda/lib/python3.10/site-packages (from sympy->torch>=1.13.0->peft) (1.3.0)\n",
      "Requirement already satisfied: datasets in /opt/conda/lib/python3.10/site-packages (3.0.1)\n",
      "Requirement already satisfied: filelock in /opt/conda/lib/python3.10/site-packages (from datasets) (3.15.1)\n",
      "Requirement already satisfied: numpy>=1.17 in /opt/conda/lib/python3.10/site-packages (from datasets) (1.26.4)\n",
      "Requirement already satisfied: pyarrow>=15.0.0 in /opt/conda/lib/python3.10/site-packages (from datasets) (16.1.0)\n",
      "Requirement already satisfied: dill<0.3.9,>=0.3.0 in /opt/conda/lib/python3.10/site-packages (from datasets) (0.3.8)\n",
      "Requirement already satisfied: pandas in /opt/conda/lib/python3.10/site-packages (from datasets) (2.2.2)\n",
      "Requirement already satisfied: requests>=2.32.2 in /opt/conda/lib/python3.10/site-packages (from datasets) (2.32.3)\n",
      "Requirement already satisfied: tqdm>=4.66.3 in /opt/conda/lib/python3.10/site-packages (from datasets) (4.66.4)\n",
      "Requirement already satisfied: xxhash in /opt/conda/lib/python3.10/site-packages (from datasets) (3.4.1)\n",
      "Requirement already satisfied: multiprocess in /opt/conda/lib/python3.10/site-packages (from datasets) (0.70.16)\n",
      "Requirement already satisfied: fsspec<=2024.6.1,>=2023.1.0 in /opt/conda/lib/python3.10/site-packages (from fsspec[http]<=2024.6.1,>=2023.1.0->datasets) (2024.6.1)\n",
      "Requirement already satisfied: aiohttp in /opt/conda/lib/python3.10/site-packages (from datasets) (3.9.5)\n",
      "Requirement already satisfied: huggingface-hub>=0.22.0 in /opt/conda/lib/python3.10/site-packages (from datasets) (0.25.1)\n",
      "Requirement already satisfied: packaging in /opt/conda/lib/python3.10/site-packages (from datasets) (21.3)\n",
      "Requirement already satisfied: pyyaml>=5.1 in /opt/conda/lib/python3.10/site-packages (from datasets) (6.0.2)\n",
      "Requirement already satisfied: aiosignal>=1.1.2 in /opt/conda/lib/python3.10/site-packages (from aiohttp->datasets) (1.3.1)\n",
      "Requirement already satisfied: attrs>=17.3.0 in /opt/conda/lib/python3.10/site-packages (from aiohttp->datasets) (23.2.0)\n",
      "Requirement already satisfied: frozenlist>=1.1.1 in /opt/conda/lib/python3.10/site-packages (from aiohttp->datasets) (1.4.1)\n",
      "Requirement already satisfied: multidict<7.0,>=4.5 in /opt/conda/lib/python3.10/site-packages (from aiohttp->datasets) (6.0.5)\n",
      "Requirement already satisfied: yarl<2.0,>=1.0 in /opt/conda/lib/python3.10/site-packages (from aiohttp->datasets) (1.9.4)\n",
      "Requirement already satisfied: async-timeout<5.0,>=4.0 in /opt/conda/lib/python3.10/site-packages (from aiohttp->datasets) (4.0.3)\n",
      "Requirement already satisfied: typing-extensions>=3.7.4.3 in /opt/conda/lib/python3.10/site-packages (from huggingface-hub>=0.22.0->datasets) (4.12.2)\n",
      "Requirement already satisfied: pyparsing!=3.0.5,>=2.0.2 in /opt/conda/lib/python3.10/site-packages (from packaging->datasets) (3.1.2)\n",
      "Requirement already satisfied: charset-normalizer<4,>=2 in /opt/conda/lib/python3.10/site-packages (from requests>=2.32.2->datasets) (3.3.2)\n",
      "Requirement already satisfied: idna<4,>=2.5 in /opt/conda/lib/python3.10/site-packages (from requests>=2.32.2->datasets) (3.7)\n",
      "Requirement already satisfied: urllib3<3,>=1.21.1 in /opt/conda/lib/python3.10/site-packages (from requests>=2.32.2->datasets) (1.26.18)\n",
      "Requirement already satisfied: certifi>=2017.4.17 in /opt/conda/lib/python3.10/site-packages (from requests>=2.32.2->datasets) (2024.8.30)\n",
      "Requirement already satisfied: python-dateutil>=2.8.2 in /opt/conda/lib/python3.10/site-packages (from pandas->datasets) (2.9.0.post0)\n",
      "Requirement already satisfied: pytz>=2020.1 in /opt/conda/lib/python3.10/site-packages (from pandas->datasets) (2024.1)\n",
      "Requirement already satisfied: tzdata>=2022.7 in /opt/conda/lib/python3.10/site-packages (from pandas->datasets) (2024.1)\n",
      "Requirement already satisfied: six>=1.5 in /opt/conda/lib/python3.10/site-packages (from python-dateutil>=2.8.2->pandas->datasets) (1.16.0)\n",
      "Requirement already satisfied: evaluate in /opt/conda/lib/python3.10/site-packages (0.4.3)\n",
      "Requirement already satisfied: datasets>=2.0.0 in /opt/conda/lib/python3.10/site-packages (from evaluate) (3.0.1)\n",
      "Requirement already satisfied: numpy>=1.17 in /opt/conda/lib/python3.10/site-packages (from evaluate) (1.26.4)\n",
      "Requirement already satisfied: dill in /opt/conda/lib/python3.10/site-packages (from evaluate) (0.3.8)\n",
      "Requirement already satisfied: pandas in /opt/conda/lib/python3.10/site-packages (from evaluate) (2.2.2)\n",
      "Requirement already satisfied: requests>=2.19.0 in /opt/conda/lib/python3.10/site-packages (from evaluate) (2.32.3)\n",
      "Requirement already satisfied: tqdm>=4.62.1 in /opt/conda/lib/python3.10/site-packages (from evaluate) (4.66.4)\n",
      "Requirement already satisfied: xxhash in /opt/conda/lib/python3.10/site-packages (from evaluate) (3.4.1)\n",
      "Requirement already satisfied: multiprocess in /opt/conda/lib/python3.10/site-packages (from evaluate) (0.70.16)\n",
      "Requirement already satisfied: fsspec>=2021.05.0 in /opt/conda/lib/python3.10/site-packages (from fsspec[http]>=2021.05.0->evaluate) (2024.6.1)\n",
      "Requirement already satisfied: huggingface-hub>=0.7.0 in /opt/conda/lib/python3.10/site-packages (from evaluate) (0.25.1)\n",
      "Requirement already satisfied: packaging in /opt/conda/lib/python3.10/site-packages (from evaluate) (21.3)\n",
      "Requirement already satisfied: filelock in /opt/conda/lib/python3.10/site-packages (from datasets>=2.0.0->evaluate) (3.15.1)\n",
      "Requirement already satisfied: pyarrow>=15.0.0 in /opt/conda/lib/python3.10/site-packages (from datasets>=2.0.0->evaluate) (16.1.0)\n",
      "Requirement already satisfied: aiohttp in /opt/conda/lib/python3.10/site-packages (from datasets>=2.0.0->evaluate) (3.9.5)\n",
      "Requirement already satisfied: pyyaml>=5.1 in /opt/conda/lib/python3.10/site-packages (from datasets>=2.0.0->evaluate) (6.0.2)\n",
      "Requirement already satisfied: typing-extensions>=3.7.4.3 in /opt/conda/lib/python3.10/site-packages (from huggingface-hub>=0.7.0->evaluate) (4.12.2)\n",
      "Requirement already satisfied: pyparsing!=3.0.5,>=2.0.2 in /opt/conda/lib/python3.10/site-packages (from packaging->evaluate) (3.1.2)\n",
      "Requirement already satisfied: charset-normalizer<4,>=2 in /opt/conda/lib/python3.10/site-packages (from requests>=2.19.0->evaluate) (3.3.2)\n",
      "Requirement already satisfied: idna<4,>=2.5 in /opt/conda/lib/python3.10/site-packages (from requests>=2.19.0->evaluate) (3.7)\n",
      "Requirement already satisfied: urllib3<3,>=1.21.1 in /opt/conda/lib/python3.10/site-packages (from requests>=2.19.0->evaluate) (1.26.18)\n",
      "Requirement already satisfied: certifi>=2017.4.17 in /opt/conda/lib/python3.10/site-packages (from requests>=2.19.0->evaluate) (2024.8.30)\n",
      "Requirement already satisfied: python-dateutil>=2.8.2 in /opt/conda/lib/python3.10/site-packages (from pandas->evaluate) (2.9.0.post0)\n",
      "Requirement already satisfied: pytz>=2020.1 in /opt/conda/lib/python3.10/site-packages (from pandas->evaluate) (2024.1)\n",
      "Requirement already satisfied: tzdata>=2022.7 in /opt/conda/lib/python3.10/site-packages (from pandas->evaluate) (2024.1)\n",
      "Requirement already satisfied: aiosignal>=1.1.2 in /opt/conda/lib/python3.10/site-packages (from aiohttp->datasets>=2.0.0->evaluate) (1.3.1)\n",
      "Requirement already satisfied: attrs>=17.3.0 in /opt/conda/lib/python3.10/site-packages (from aiohttp->datasets>=2.0.0->evaluate) (23.2.0)\n",
      "Requirement already satisfied: frozenlist>=1.1.1 in /opt/conda/lib/python3.10/site-packages (from aiohttp->datasets>=2.0.0->evaluate) (1.4.1)\n",
      "Requirement already satisfied: multidict<7.0,>=4.5 in /opt/conda/lib/python3.10/site-packages (from aiohttp->datasets>=2.0.0->evaluate) (6.0.5)\n",
      "Requirement already satisfied: yarl<2.0,>=1.0 in /opt/conda/lib/python3.10/site-packages (from aiohttp->datasets>=2.0.0->evaluate) (1.9.4)\n",
      "Requirement already satisfied: async-timeout<5.0,>=4.0 in /opt/conda/lib/python3.10/site-packages (from aiohttp->datasets>=2.0.0->evaluate) (4.0.3)\n",
      "Requirement already satisfied: six>=1.5 in /opt/conda/lib/python3.10/site-packages (from python-dateutil>=2.8.2->pandas->evaluate) (1.16.0)\n",
      "Requirement already satisfied: rouge_score in /opt/conda/lib/python3.10/site-packages (0.1.2)\n",
      "Requirement already satisfied: absl-py in /opt/conda/lib/python3.10/site-packages (from rouge_score) (1.4.0)\n",
      "Requirement already satisfied: nltk in /opt/conda/lib/python3.10/site-packages (from rouge_score) (3.2.4)\n",
      "Requirement already satisfied: numpy in /opt/conda/lib/python3.10/site-packages (from rouge_score) (1.26.4)\n",
      "Requirement already satisfied: six>=1.14.0 in /opt/conda/lib/python3.10/site-packages (from rouge_score) (1.16.0)\n"
     ]
    }
   ],
   "source": [
    "!pip install peft\n",
    "!pip install datasets\n",
    "!pip install evaluate\n",
    "!pip install rouge_score "
   ]
  },
  {
   "cell_type": "code",
   "execution_count": 2,
   "metadata": {
    "execution": {
     "iopub.execute_input": "2024-11-26T19:04:32.145813Z",
     "iopub.status.busy": "2024-11-26T19:04:32.145462Z",
     "iopub.status.idle": "2024-11-26T19:04:34.661742Z",
     "shell.execute_reply": "2024-11-26T19:04:34.661052Z",
     "shell.execute_reply.started": "2024-11-26T19:04:32.145780Z"
    },
    "executionInfo": {
     "elapsed": 14393,
     "status": "ok",
     "timestamp": 1732524084589,
     "user": {
      "displayName": "Yijie TONG",
      "userId": "03635280673648447322"
     },
     "user_tz": -60
    },
    "id": "ywQTYhhVqcCF",
    "trusted": true
   },
   "outputs": [],
   "source": [
    "from peft import LoraConfig, TaskType, get_peft_model"
   ]
  },
  {
   "cell_type": "code",
   "execution_count": 3,
   "metadata": {
    "execution": {
     "iopub.execute_input": "2024-11-26T19:04:34.663392Z",
     "iopub.status.busy": "2024-11-26T19:04:34.662880Z",
     "iopub.status.idle": "2024-11-26T19:04:34.670019Z",
     "shell.execute_reply": "2024-11-26T19:04:34.669210Z",
     "shell.execute_reply.started": "2024-11-26T19:04:34.663351Z"
    },
    "executionInfo": {
     "elapsed": 35,
     "status": "ok",
     "timestamp": 1732524084600,
     "user": {
      "displayName": "Yijie TONG",
      "userId": "03635280673648447322"
     },
     "user_tz": -60
    },
    "id": "aC3DdMaYquU0",
    "outputId": "31dd5a5c-e1f4-482d-feaa-f049b2d92589",
    "trusted": true
   },
   "outputs": [
    {
     "data": {
      "text/plain": [
       "'0.13.2'"
      ]
     },
     "execution_count": 3,
     "metadata": {},
     "output_type": "execute_result"
    }
   ],
   "source": [
    "import peft\n",
    "\n",
    "peft.__version__"
   ]
  },
  {
   "cell_type": "code",
   "execution_count": 4,
   "metadata": {
    "execution": {
     "iopub.execute_input": "2024-11-26T19:04:34.672479Z",
     "iopub.status.busy": "2024-11-26T19:04:34.672199Z",
     "iopub.status.idle": "2024-11-26T19:04:34.679951Z",
     "shell.execute_reply": "2024-11-26T19:04:34.679234Z",
     "shell.execute_reply.started": "2024-11-26T19:04:34.672453Z"
    },
    "executionInfo": {
     "elapsed": 27,
     "status": "ok",
     "timestamp": 1732524084600,
     "user": {
      "displayName": "Yijie TONG",
      "userId": "03635280673648447322"
     },
     "user_tz": -60
    },
    "id": "R1oUNV1YNp9L",
    "trusted": true
   },
   "outputs": [],
   "source": [
    "import os"
   ]
  },
  {
   "cell_type": "code",
   "execution_count": 5,
   "metadata": {
    "execution": {
     "iopub.execute_input": "2024-11-26T19:04:34.681137Z",
     "iopub.status.busy": "2024-11-26T19:04:34.680892Z",
     "iopub.status.idle": "2024-11-26T19:04:34.689039Z",
     "shell.execute_reply": "2024-11-26T19:04:34.688291Z",
     "shell.execute_reply.started": "2024-11-26T19:04:34.681112Z"
    },
    "executionInfo": {
     "elapsed": 27,
     "status": "ok",
     "timestamp": 1732524084600,
     "user": {
      "displayName": "Yijie TONG",
      "userId": "03635280673648447322"
     },
     "user_tz": -60
    },
    "id": "bVObdxNkOosw",
    "trusted": true
   },
   "outputs": [],
   "source": [
    "# !ls"
   ]
  },
  {
   "cell_type": "code",
   "execution_count": 6,
   "metadata": {
    "execution": {
     "iopub.execute_input": "2024-11-26T19:04:34.690335Z",
     "iopub.status.busy": "2024-11-26T19:04:34.690000Z",
     "iopub.status.idle": "2024-11-26T19:04:34.695892Z",
     "shell.execute_reply": "2024-11-26T19:04:34.695024Z",
     "shell.execute_reply.started": "2024-11-26T19:04:34.690308Z"
    },
    "executionInfo": {
     "elapsed": 26,
     "status": "ok",
     "timestamp": 1732524084600,
     "user": {
      "displayName": "Yijie TONG",
      "userId": "03635280673648447322"
     },
     "user_tz": -60
    },
    "id": "jNJlSCuRN2lA",
    "trusted": true
   },
   "outputs": [],
   "source": [
    "# os.chdir(\"drive/MyDrive/Colab Notebooks/Practice 2024-2025\")"
   ]
  },
  {
   "cell_type": "markdown",
   "metadata": {
    "id": "CmOf0EbtuBAv"
   },
   "source": [
    "## Load Model"
   ]
  },
  {
   "cell_type": "markdown",
   "metadata": {
    "id": "ZmRVzH17uJzb"
   },
   "source": [
    "### FLAN-T5"
   ]
  },
  {
   "cell_type": "code",
   "execution_count": null,
   "metadata": {
    "trusted": true
   },
   "outputs": [],
   "source": []
  },
  {
   "cell_type": "code",
   "execution_count": 7,
   "metadata": {
    "execution": {
     "iopub.execute_input": "2024-11-26T19:04:34.697143Z",
     "iopub.status.busy": "2024-11-26T19:04:34.696891Z",
     "iopub.status.idle": "2024-11-26T19:04:35.791524Z",
     "shell.execute_reply": "2024-11-26T19:04:35.790802Z",
     "shell.execute_reply.started": "2024-11-26T19:04:34.697118Z"
    },
    "executionInfo": {
     "elapsed": 3078,
     "status": "ok",
     "timestamp": 1732524087652,
     "user": {
      "displayName": "Yijie TONG",
      "userId": "03635280673648447322"
     },
     "user_tz": -60
    },
    "id": "d6AoxQXpzwe0",
    "outputId": "d04c6f24-ffa4-489b-a7a7-885709403ed7",
    "trusted": true
   },
   "outputs": [
    {
     "name": "stderr",
     "output_type": "stream",
     "text": [
      "/opt/conda/lib/python3.10/site-packages/transformers/tokenization_utils_base.py:1617: FutureWarning: `clean_up_tokenization_spaces` was not set. It will be set to `True` by default. This behavior will be deprecated in transformers v4.45, and will be then set to `False` by default. For more details check this issue: https://github.com/huggingface/transformers/issues/31884\n",
      "  warnings.warn(\n"
     ]
    }
   ],
   "source": [
    "from transformers import AutoTokenizer, AutoModelForSeq2SeqLM\n",
    "\n",
    "\n",
    "\n",
    "tokenizer = AutoTokenizer.from_pretrained(\"google/flan-t5-base\")\n",
    "\n",
    "model = AutoModelForSeq2SeqLM.from_pretrained(\"google/flan-t5-base\")"
   ]
  },
  {
   "cell_type": "code",
   "execution_count": 8,
   "metadata": {
    "execution": {
     "iopub.execute_input": "2024-11-26T19:04:35.793026Z",
     "iopub.status.busy": "2024-11-26T19:04:35.792660Z",
     "iopub.status.idle": "2024-11-26T19:04:35.797245Z",
     "shell.execute_reply": "2024-11-26T19:04:35.796417Z",
     "shell.execute_reply.started": "2024-11-26T19:04:35.792984Z"
    },
    "executionInfo": {
     "elapsed": 19,
     "status": "ok",
     "timestamp": 1732524087654,
     "user": {
      "displayName": "Yijie TONG",
      "userId": "03635280673648447322"
     },
     "user_tz": -60
    },
    "id": "Y8oqZTGcwk5K",
    "trusted": true
   },
   "outputs": [],
   "source": [
    "peft_config = LoraConfig(\n",
    "\n",
    "    task_type=TaskType.SEQ_2_SEQ_LM,\n",
    "\n",
    "    inference_mode=False,\n",
    "\n",
    "    r=4,\n",
    "\n",
    "    lora_alpha=32,\n",
    "\n",
    "    lora_dropout=0.1,\n",
    "\n",
    "    )\n"
   ]
  },
  {
   "cell_type": "code",
   "execution_count": 9,
   "metadata": {
    "execution": {
     "iopub.execute_input": "2024-11-26T19:04:35.798680Z",
     "iopub.status.busy": "2024-11-26T19:04:35.798363Z",
     "iopub.status.idle": "2024-11-26T19:04:35.885222Z",
     "shell.execute_reply": "2024-11-26T19:04:35.884415Z",
     "shell.execute_reply.started": "2024-11-26T19:04:35.798634Z"
    },
    "executionInfo": {
     "elapsed": 19,
     "status": "ok",
     "timestamp": 1732524087654,
     "user": {
      "displayName": "Yijie TONG",
      "userId": "03635280673648447322"
     },
     "user_tz": -60
    },
    "id": "ZjEmkYI006su",
    "outputId": "d25bc692-2f45-4de2-b013-a1b494ec402c",
    "trusted": true
   },
   "outputs": [
    {
     "name": "stdout",
     "output_type": "stream",
     "text": [
      "trainable params: 442,368 || all params: 248,020,224 || trainable%: 0.1784\n"
     ]
    }
   ],
   "source": [
    "model = get_peft_model(model, peft_config)\n",
    "\n",
    "model.print_trainable_parameters()"
   ]
  },
  {
   "cell_type": "markdown",
   "metadata": {
    "id": "cSVHw5o_SKjh"
   },
   "source": [
    "## Load Data"
   ]
  },
  {
   "cell_type": "code",
   "execution_count": 10,
   "metadata": {
    "execution": {
     "iopub.execute_input": "2024-11-26T19:04:35.886714Z",
     "iopub.status.busy": "2024-11-26T19:04:35.886348Z",
     "iopub.status.idle": "2024-11-26T19:04:37.571602Z",
     "shell.execute_reply": "2024-11-26T19:04:37.570759Z",
     "shell.execute_reply.started": "2024-11-26T19:04:35.886669Z"
    },
    "executionInfo": {
     "elapsed": 1657,
     "status": "ok",
     "timestamp": 1732524095019,
     "user": {
      "displayName": "Yijie TONG",
      "userId": "03635280673648447322"
     },
     "user_tz": -60
    },
    "id": "KgdVSIg1-Jjf",
    "trusted": true
   },
   "outputs": [],
   "source": [
    "from datasets import load_dataset\n",
    "\n",
    "\n",
    "\n",
    "# ds = load_dataset(\"tatsu-lab/alpaca\")\n",
    "\n",
    "\n",
    "\n",
    "ds = load_dataset(\"databricks/databricks-dolly-15k\")"
   ]
  },
  {
   "cell_type": "code",
   "execution_count": null,
   "metadata": {
    "execution": {
     "iopub.execute_input": "2024-11-26T19:04:37.573417Z",
     "iopub.status.busy": "2024-11-26T19:04:37.572871Z",
     "iopub.status.idle": "2024-11-26T19:04:37.593066Z",
     "shell.execute_reply": "2024-11-26T19:04:37.592313Z",
     "shell.execute_reply.started": "2024-11-26T19:04:37.573243Z"
    },
    "executionInfo": {
     "elapsed": 37,
     "status": "ok",
     "timestamp": 1732524095020,
     "user": {
      "displayName": "Yijie TONG",
      "userId": "03635280673648447322"
     },
     "user_tz": -60
    },
    "id": "Ps34wxcSGsdF",
    "trusted": true
   },
   "outputs": [],
   "source": [
    "train_ds = ds[\"train\"].shuffle(seed=42).select(range(1000))\n",
    "\n",
    "sp1 = ds[\"train\"].train_test_split(test_size=0.2, seed=42)\n",
    "\n",
    "train_ds = sp1[\"train\"]\n",
    "\n",
    "sp2 = sp1[\"test\"].train_test_split(test_size=0.5, seed=42)\n",
    "\n",
    "validation_ds, test_ds = sp2[\"train\"], sp2[\"test\"]\n",
    "\n",
    "\n",
    "\n",
    "# train_ds = ds[\"train\"].shuffle(seed=42).select(range(1000))\n",
    "\n",
    "# train_valid_split = train_ds.train_test_split(test_size=0.2, seed=42)\n",
    "\n",
    "# train_ds = train_valid_split[\"train\"]\n",
    "\n",
    "# temp = train_valid_split[\"test\"].train_test_split(test_size=0.5, seed=42)\n",
    "\n",
    "# validation_ds, test_ds = temp[\"train\"], temp[\"test\"]"
   ]
  },
  {
   "cell_type": "code",
   "execution_count": 12,
   "metadata": {
    "execution": {
     "iopub.execute_input": "2024-11-26T19:04:37.594352Z",
     "iopub.status.busy": "2024-11-26T19:04:37.594060Z",
     "iopub.status.idle": "2024-11-26T19:04:37.607560Z",
     "shell.execute_reply": "2024-11-26T19:04:37.604104Z",
     "shell.execute_reply.started": "2024-11-26T19:04:37.594319Z"
    },
    "executionInfo": {
     "elapsed": 34,
     "status": "ok",
     "timestamp": 1732524095020,
     "user": {
      "displayName": "Yijie TONG",
      "userId": "03635280673648447322"
     },
     "user_tz": -60
    },
    "id": "aq9YJy6TSW2p",
    "outputId": "3d966bea-84fa-42b7-cd44-675892596e71",
    "trusted": true
   },
   "outputs": [
    {
     "data": {
      "text/plain": [
       "(1502, 12008, 1501)"
      ]
     },
     "execution_count": 12,
     "metadata": {},
     "output_type": "execute_result"
    }
   ],
   "source": [
    "len(test_ds), len(train_ds), len(validation_ds)"
   ]
  },
  {
   "cell_type": "code",
   "execution_count": 13,
   "metadata": {
    "execution": {
     "iopub.execute_input": "2024-11-26T19:04:37.614315Z",
     "iopub.status.busy": "2024-11-26T19:04:37.612445Z",
     "iopub.status.idle": "2024-11-26T19:04:38.532019Z",
     "shell.execute_reply": "2024-11-26T19:04:38.531305Z",
     "shell.execute_reply.started": "2024-11-26T19:04:37.614275Z"
    },
    "executionInfo": {
     "elapsed": 1178,
     "status": "ok",
     "timestamp": 1732524096173,
     "user": {
      "displayName": "Yijie TONG",
      "userId": "03635280673648447322"
     },
     "user_tz": -60
    },
    "id": "gVEwDK3GSnOn",
    "trusted": true
   },
   "outputs": [],
   "source": [
    "additional_ds = load_dataset(\"tatsu-lab/alpaca\")\n",
    "\n",
    "subset_size = 100\n",
    "\n",
    "additional_subset = additional_ds['train'].shuffle(seed=42).select(range(subset_size))\n"
   ]
  },
  {
   "cell_type": "markdown",
   "metadata": {
    "id": "beZrE4K1TFsn"
   },
   "source": [
    "## Tokenize"
   ]
  },
  {
   "cell_type": "code",
   "execution_count": 14,
   "metadata": {
    "execution": {
     "iopub.execute_input": "2024-11-26T19:04:38.533843Z",
     "iopub.status.busy": "2024-11-26T19:04:38.533167Z",
     "iopub.status.idle": "2024-11-26T19:04:38.538967Z",
     "shell.execute_reply": "2024-11-26T19:04:38.537971Z",
     "shell.execute_reply.started": "2024-11-26T19:04:38.533803Z"
    },
    "executionInfo": {
     "elapsed": 38,
     "status": "ok",
     "timestamp": 1732524096183,
     "user": {
      "displayName": "Yijie TONG",
      "userId": "03635280673648447322"
     },
     "user_tz": -60
    },
    "id": "JCLVLv0aDX3e",
    "trusted": true
   },
   "outputs": [],
   "source": [
    "def preprocess_alpaca(data):\n",
    "\n",
    "    input_text = f\"Instruction: {data['instruction']}\\nInput: {data['input']}\\n\"\n",
    "\n",
    "    target_text = data['output']\n",
    "\n",
    "    return {\"input_ids\": tokenizer(input_text, truncation=True, padding=\"max_length\", max_length=256, return_tensors=\"pt\")[\"input_ids\"],\n",
    "\n",
    "            \"labels\": tokenizer(target_text, truncation=True, padding=\"max_length\", max_length=256, return_tensors=\"pt\")[\"input_ids\"]}"
   ]
  },
  {
   "cell_type": "code",
   "execution_count": 15,
   "metadata": {
    "execution": {
     "iopub.execute_input": "2024-11-26T19:04:38.540282Z",
     "iopub.status.busy": "2024-11-26T19:04:38.540007Z",
     "iopub.status.idle": "2024-11-26T19:04:38.547971Z",
     "shell.execute_reply": "2024-11-26T19:04:38.547246Z",
     "shell.execute_reply.started": "2024-11-26T19:04:38.540234Z"
    },
    "executionInfo": {
     "elapsed": 37,
     "status": "ok",
     "timestamp": 1732524096183,
     "user": {
      "displayName": "Yijie TONG",
      "userId": "03635280673648447322"
     },
     "user_tz": -60
    },
    "id": "1g0S6Sf8T8w5",
    "trusted": true
   },
   "outputs": [],
   "source": [
    "def preprocess_dolly(data):\n",
    "\n",
    "    inputs = data[\"instruction\"] + \" \" + data[\"context\"]\n",
    "\n",
    "    targets = data[\"response\"]\n",
    "\n",
    "    return {\"input_ids\": tokenizer(inputs, truncation=True, padding=\"max_length\", max_length=256, return_tensors=\"pt\",)[\"input_ids\"],\n",
    "\n",
    "            \"labels\": tokenizer(targets, truncation=True, padding=\"max_length\", max_length=256, return_tensors=\"pt\",)[\"input_ids\"]}"
   ]
  },
  {
   "cell_type": "code",
   "execution_count": 16,
   "metadata": {
    "execution": {
     "iopub.execute_input": "2024-11-26T19:04:38.549208Z",
     "iopub.status.busy": "2024-11-26T19:04:38.548950Z",
     "iopub.status.idle": "2024-11-26T19:04:57.698286Z",
     "shell.execute_reply": "2024-11-26T19:04:57.697342Z",
     "shell.execute_reply.started": "2024-11-26T19:04:38.549182Z"
    },
    "executionInfo": {
     "elapsed": 5832,
     "status": "ok",
     "timestamp": 1732524101978,
     "user": {
      "displayName": "Yijie TONG",
      "userId": "03635280673648447322"
     },
     "user_tz": -60
    },
    "id": "jCLwgzE5Eayz",
    "outputId": "d825e77b-cd3e-408a-a45e-081982a74d9a",
    "trusted": true
   },
   "outputs": [
    {
     "data": {
      "application/vnd.jupyter.widget-view+json": {
       "model_id": "dc72be66cb5d4d478d6accca3a38c0f1",
       "version_major": 2,
       "version_minor": 0
      },
      "text/plain": [
       "Map:   0%|          | 0/12008 [00:00<?, ? examples/s]"
      ]
     },
     "metadata": {},
     "output_type": "display_data"
    },
    {
     "data": {
      "application/vnd.jupyter.widget-view+json": {
       "model_id": "3a1bab4e70504dcfb3da26db0f381d55",
       "version_major": 2,
       "version_minor": 0
      },
      "text/plain": [
       "Map:   0%|          | 0/1502 [00:00<?, ? examples/s]"
      ]
     },
     "metadata": {},
     "output_type": "display_data"
    },
    {
     "data": {
      "application/vnd.jupyter.widget-view+json": {
       "model_id": "6e2146bc7bf747e0a334a1cd9273041c",
       "version_major": 2,
       "version_minor": 0
      },
      "text/plain": [
       "Map:   0%|          | 0/1501 [00:00<?, ? examples/s]"
      ]
     },
     "metadata": {},
     "output_type": "display_data"
    }
   ],
   "source": [
    "tokenized_dataset = {\"train\": train_ds.map(preprocess_dolly, batch_size=4),\n",
    "\n",
    "                     \"test\": test_ds.map(preprocess_dolly, batch_size=4),\n",
    "\n",
    "                     \"validation\": validation_ds.map(preprocess_dolly, batch_size=4),\n",
    "\n",
    "                     \"additional\": additional_subset.map(preprocess_alpaca, batch_size=4)}"
   ]
  },
  {
   "cell_type": "markdown",
   "metadata": {
    "id": "YAWHvwsZ6TRj"
   },
   "source": [
    "## Instruction Training"
   ]
  },
  {
   "cell_type": "code",
   "execution_count": 17,
   "metadata": {
    "execution": {
     "iopub.execute_input": "2024-11-26T19:04:57.700283Z",
     "iopub.status.busy": "2024-11-26T19:04:57.699596Z",
     "iopub.status.idle": "2024-11-26T19:04:57.704349Z",
     "shell.execute_reply": "2024-11-26T19:04:57.703497Z",
     "shell.execute_reply.started": "2024-11-26T19:04:57.700219Z"
    },
    "executionInfo": {
     "elapsed": 38,
     "status": "ok",
     "timestamp": 1732524101981,
     "user": {
      "displayName": "Yijie TONG",
      "userId": "03635280673648447322"
     },
     "user_tz": -60
    },
    "id": "LxkU25eP7_yv",
    "trusted": true
   },
   "outputs": [],
   "source": [
    "import numpy as np\n",
    "\n",
    "import pandas as pd"
   ]
  },
  {
   "cell_type": "code",
   "execution_count": 18,
   "metadata": {
    "execution": {
     "iopub.execute_input": "2024-11-26T19:04:57.705680Z",
     "iopub.status.busy": "2024-11-26T19:04:57.705389Z",
     "iopub.status.idle": "2024-11-26T19:05:02.126063Z",
     "shell.execute_reply": "2024-11-26T19:05:02.125092Z",
     "shell.execute_reply.started": "2024-11-26T19:04:57.705654Z"
    },
    "executionInfo": {
     "elapsed": 3121,
     "status": "ok",
     "timestamp": 1732524114308,
     "user": {
      "displayName": "Yijie TONG",
      "userId": "03635280673648447322"
     },
     "user_tz": -60
    },
    "id": "cCmtq8_cRXzD",
    "trusted": true
   },
   "outputs": [],
   "source": [
    "import evaluate\n",
    "\n",
    "bleu = evaluate.load(\"bleu\")\n",
    "\n",
    "rouge = evaluate.load(\"rouge\")\n",
    "\n",
    "import torch"
   ]
  },
  {
   "cell_type": "code",
   "execution_count": 19,
   "metadata": {
    "execution": {
     "iopub.execute_input": "2024-11-26T19:05:02.127988Z",
     "iopub.status.busy": "2024-11-26T19:05:02.127288Z",
     "iopub.status.idle": "2024-11-26T19:05:02.760442Z",
     "shell.execute_reply": "2024-11-26T19:05:02.759620Z",
     "shell.execute_reply.started": "2024-11-26T19:05:02.127945Z"
    },
    "trusted": true
   },
   "outputs": [
    {
     "data": {
      "text/plain": [
       "''"
      ]
     },
     "execution_count": 19,
     "metadata": {},
     "output_type": "execute_result"
    }
   ],
   "source": [
    "device = \"cuda\"\n",
    "model.to(device)\n",
    "model.eval()\n",
    "''"
   ]
  },
  {
   "cell_type": "code",
   "execution_count": null,
   "metadata": {
    "execution": {
     "iopub.execute_input": "2024-11-26T19:05:02.761693Z",
     "iopub.status.busy": "2024-11-26T19:05:02.761436Z",
     "iopub.status.idle": "2024-11-26T19:13:02.711042Z",
     "shell.execute_reply": "2024-11-26T19:13:02.710159Z",
     "shell.execute_reply.started": "2024-11-26T19:05:02.761668Z"
    },
    "trusted": true
   },
   "outputs": [
    {
     "name": "stderr",
     "output_type": "stream",
     "text": [
      "100%|██████████| 1501/1501 [07:57<00:00,  3.14it/s]\n"
     ]
    },
    {
     "name": "stdout",
     "output_type": "stream",
     "text": [
      "BLEU score: {'bleu': 0.0001194536676941802, 'precisions': [0.39258719606593206, 0.1459430979978925, 0.08008504606661943, 0.05135170094425042], 'brevity_penalty': 0.0009641464354334158, 'length_ratio': 0.12587693154202392, 'translation_length': 10981, 'reference_length': 87236}\n",
      "ROUGE score: {'rouge1': 0.12992106358599856, 'rouge2': 0.05028785915075314, 'rougeL': 0.12189537434644283, 'rougeLsum': 0.12206761176116535}\n"
     ]
    }
   ],
   "source": [
    "from tqdm import tqdm\n",
    "\n",
    "def generate_predictions(input_ids):\n",
    "   \n",
    "    with torch.no_grad():\n",
    "        outputs = model.generate(input_ids=input_ids, max_length=256, num_beams=4, early_stopping=True)\n",
    "    return outputs\n",
    "\n",
    "def evaluate_loop(data_loader):\n",
    "    for step, batch in enumerate(tqdm(data_loader)):\n",
    "        input_ids = batch['input_ids'].squeeze(1).to(device)\n",
    "        labels = batch['labels'].squeeze(1).to(device)\n",
    "        \n",
    "        predicted_ids = generate_predictions(input_ids)\n",
    "        \n",
    "        predicted_text = tokenizer.batch_decode(predicted_ids, skip_special_tokens=True)\n",
    "        target_text = tokenizer.batch_decode(labels, skip_special_tokens=True)\n",
    "\n",
    "        for i in range(len(target_text)):\n",
    "            bleu.add(prediction=predicted_text[i], reference=[target_text[i]])\n",
    "            rouge.add(prediction=predicted_text[i], reference=target_text[i])\n",
    "        \n",
    "    bleu_score = bleu.compute()\n",
    "    rouge_score = rouge.compute()\n",
    "    \n",
    "    print(f\"BLEU score: {bleu_score}\")\n",
    "    print(f\"ROUGE score: {rouge_score}\")\n",
    "\n",
    "evaluate_loop(tokenized_dataset['validation'])\n"
   ]
  },
  {
   "cell_type": "code",
   "execution_count": 21,
   "metadata": {
    "execution": {
     "iopub.execute_input": "2024-11-26T19:13:02.712451Z",
     "iopub.status.busy": "2024-11-26T19:13:02.712111Z",
     "iopub.status.idle": "2024-11-26T19:21:04.904040Z",
     "shell.execute_reply": "2024-11-26T19:21:04.902977Z",
     "shell.execute_reply.started": "2024-11-26T19:13:02.712408Z"
    },
    "trusted": true
   },
   "outputs": [
    {
     "name": "stderr",
     "output_type": "stream",
     "text": [
      "100%|██████████| 1502/1502 [08:00<00:00,  3.13it/s]\n"
     ]
    },
    {
     "name": "stdout",
     "output_type": "stream",
     "text": [
      "BLEU score: {'bleu': 0.00011841289616344131, 'precisions': [0.42619808306709267, 0.17448246725813266, 0.1018957345971564, 0.07013897908819328], 'brevity_penalty': 0.0007798827612028123, 'length_ratio': 0.12260360592257674, 'translation_length': 10955, 'reference_length': 89353}\n",
      "ROUGE score: {'rouge1': 0.14016299009362565, 'rouge2': 0.05305306561244673, 'rougeL': 0.1326894413014032, 'rougeLsum': 0.13259385950940167}\n"
     ]
    }
   ],
   "source": [
    "evaluate_loop(tokenized_dataset['test'])"
   ]
  },
  {
   "cell_type": "code",
   "execution_count": 22,
   "metadata": {
    "execution": {
     "iopub.execute_input": "2024-11-26T19:21:04.906213Z",
     "iopub.status.busy": "2024-11-26T19:21:04.905518Z",
     "iopub.status.idle": "2024-11-26T19:21:55.634097Z",
     "shell.execute_reply": "2024-11-26T19:21:55.633309Z",
     "shell.execute_reply.started": "2024-11-26T19:21:04.906166Z"
    },
    "trusted": true
   },
   "outputs": [
    {
     "name": "stderr",
     "output_type": "stream",
     "text": [
      "100%|██████████| 100/100 [00:50<00:00,  1.98it/s]\n"
     ]
    },
    {
     "name": "stdout",
     "output_type": "stream",
     "text": [
      "BLEU score: {'bleu': 0.020101169685288668, 'precisions': [0.3223350253807107, 0.12787550744248985, 0.0864903502501787, 0.06184012066365008], 'brevity_penalty': 0.16496359647414502, 'length_ratio': 0.35688405797101447, 'translation_length': 1576, 'reference_length': 4416}\n",
      "ROUGE score: {'rouge1': 0.21123958806872062, 'rouge2': 0.10350711679897005, 'rougeL': 0.1912380587098892, 'rougeLsum': 0.19000298214322198}\n"
     ]
    }
   ],
   "source": [
    "evaluate_loop(tokenized_dataset['additional'])"
   ]
  },
  {
   "cell_type": "code",
   "execution_count": null,
   "metadata": {
    "execution": {
     "iopub.execute_input": "2024-11-26T19:21:55.635509Z",
     "iopub.status.busy": "2024-11-26T19:21:55.635192Z",
     "iopub.status.idle": "2024-11-26T19:21:59.409483Z",
     "shell.execute_reply": "2024-11-26T19:21:59.408738Z",
     "shell.execute_reply.started": "2024-11-26T19:21:55.635478Z"
    },
    "jupyter": {
     "source_hidden": true
    },
    "trusted": true
   },
   "outputs": [
    {
     "data": {
      "application/vnd.jupyter.widget-view+json": {
       "model_id": "0c189d8dc96449fba11dc7641bac4923",
       "version_major": 2,
       "version_minor": 0
      },
      "text/plain": [
       "Map:   0%|          | 0/12008 [00:00<?, ? examples/s]"
      ]
     },
     "metadata": {},
     "output_type": "display_data"
    },
    {
     "data": {
      "application/vnd.jupyter.widget-view+json": {
       "model_id": "2777c284e9c64ad9972d2e224e221d40",
       "version_major": 2,
       "version_minor": 0
      },
      "text/plain": [
       "Map:   0%|          | 0/1501 [00:00<?, ? examples/s]"
      ]
     },
     "metadata": {},
     "output_type": "display_data"
    },
    {
     "data": {
      "application/vnd.jupyter.widget-view+json": {
       "model_id": "8cb8a7b190224adcbfcd975c0c1a9d35",
       "version_major": 2,
       "version_minor": 0
      },
      "text/plain": [
       "Map:   0%|          | 0/1502 [00:00<?, ? examples/s]"
      ]
     },
     "metadata": {},
     "output_type": "display_data"
    }
   ],
   "source": [
    "from torch.utils.data import DataLoader\n",
    "from transformers import default_data_collator\n",
    "from tqdm import tqdm\n",
    "from transformers import get_linear_schedule_with_warmup\n",
    "\n",
    "def filter_columns(batch):\n",
    "    return {key: value for key, value in batch.items() if key in ['input_ids', 'labels']}\n",
    "\n",
    "train_dataloader = DataLoader(\n",
    "    tokenized_dataset[\"train\"].map(filter_columns, batched=True),\n",
    "    shuffle=True,\n",
    "    collate_fn=default_data_collator,\n",
    "    batch_size=8,\n",
    "    pin_memory=True\n",
    ")\n",
    "\n",
    "validation_dataloader = DataLoader(\n",
    "    tokenized_dataset[\"validation\"].map(filter_columns, batched=True),\n",
    "    collate_fn=default_data_collator,\n",
    "    batch_size=8,\n",
    "    pin_memory=True\n",
    ")\n",
    "\n",
    "test_dataloader = DataLoader(\n",
    "    tokenized_dataset[\"test\"].map(filter_columns, batched=True),\n",
    "    collate_fn=default_data_collator,\n",
    "    batch_size=8,\n",
    "    pin_memory=True\n",
    ")\n",
    "\n",
    "addi_dataloader = DataLoader(\n",
    "    tokenized_dataset[\"additional\"].map(filter_columns, batched=True),\n",
    "    collate_fn=default_data_collator,\n",
    "    batch_size=8,\n",
    "    pin_memory=True\n",
    ")"
   ]
  },
  {
   "cell_type": "code",
   "execution_count": null,
   "metadata": {
    "execution": {
     "iopub.execute_input": "2024-11-26T19:21:59.410726Z",
     "iopub.status.busy": "2024-11-26T19:21:59.410480Z",
     "iopub.status.idle": "2024-11-26T20:34:11.778518Z",
     "shell.execute_reply": "2024-11-26T20:34:11.777652Z",
     "shell.execute_reply.started": "2024-11-26T19:21:59.410701Z"
    },
    "trusted": true
   },
   "outputs": [
    {
     "name": "stderr",
     "output_type": "stream",
     "text": [
      "100%|██████████| 1501/1501 [22:20<00:00,  1.12it/s]\n",
      "100%|██████████| 188/188 [01:17<00:00,  2.43it/s]\n"
     ]
    },
    {
     "name": "stdout",
     "output_type": "stream",
     "text": [
      "Epoch 0: train_ppl=37.43816375732422 train_epoch_loss=3.6226906776428223 eval_ppl=2.2081003189086914 eval_epoch_loss=0.792132556438446\n"
     ]
    },
    {
     "name": "stderr",
     "output_type": "stream",
     "text": [
      "100%|██████████| 1501/1501 [22:21<00:00,  1.12it/s]\n",
      "100%|██████████| 188/188 [01:17<00:00,  2.43it/s]\n"
     ]
    },
    {
     "name": "stdout",
     "output_type": "stream",
     "text": [
      "Epoch 1: train_ppl=2.528874635696411 train_epoch_loss=0.9277744293212891 eval_ppl=2.068662166595459 eval_epoch_loss=0.7269021272659302\n"
     ]
    },
    {
     "name": "stderr",
     "output_type": "stream",
     "text": [
      "100%|██████████| 1501/1501 [22:21<00:00,  1.12it/s]\n",
      "100%|██████████| 188/188 [01:17<00:00,  2.43it/s]\n"
     ]
    },
    {
     "name": "stdout",
     "output_type": "stream",
     "text": [
      "Epoch 2: train_ppl=2.371427059173584 train_epoch_loss=0.8634918928146362 eval_ppl=2.0498759746551514 eval_epoch_loss=0.7177793383598328\n"
     ]
    },
    {
     "name": "stderr",
     "output_type": "stream",
     "text": [
      "100%|██████████| 188/188 [01:17<00:00,  2.44it/s]"
     ]
    },
    {
     "name": "stdout",
     "output_type": "stream",
     "text": [
      "Test results: test_ppl=2.0916249752044678 test_epoch_loss=0.7379412055015564\n"
     ]
    },
    {
     "name": "stderr",
     "output_type": "stream",
     "text": [
      "\n"
     ]
    }
   ],
   "source": [
    "lr = 1e-4\n",
    "num_epochs = 3\n",
    "\n",
    "\n",
    "optimizer = torch.optim.AdamW(model.parameters(), lr=lr)\n",
    "\n",
    "lr_scheduler = get_linear_schedule_with_warmup(\n",
    "    optimizer=optimizer,\n",
    "    num_warmup_steps=0,\n",
    "    num_training_steps=(len(train_dataloader) * num_epochs),\n",
    ")\n",
    "\n",
    "model = model.to(device)\n",
    "\n",
    "for epoch in range(num_epochs):\n",
    "    model.train()\n",
    "    total_loss = 0\n",
    "    for step, batch in enumerate(tqdm(train_dataloader)):\n",
    "        batch = {k: v.squeeze(1).to(device) for k, v in batch.items()}\n",
    "        # print(batch[\"input_ids\"].shape, batch[\"labels\"].shape)\n",
    "        outputs = model(**batch)\n",
    "        loss = outputs.loss\n",
    "        total_loss += loss.detach().float()\n",
    "        loss.backward()\n",
    "        optimizer.step()\n",
    "        lr_scheduler.step()\n",
    "        optimizer.zero_grad()\n",
    "\n",
    "    model.eval()\n",
    "    eval_loss = 0\n",
    "    eval_preds = []\n",
    "    with torch.no_grad():\n",
    "        for step, batch in enumerate(tqdm(validation_dataloader)):\n",
    "            batch = {k: v.squeeze(1).to(device) for k, v in batch.items()}\n",
    "            outputs = model(**batch)\n",
    "            loss = outputs.loss\n",
    "            eval_loss += loss.detach().float()\n",
    "            eval_preds.extend(\n",
    "                tokenizer.batch_decode(torch.argmax(outputs.logits, -1).detach().cpu().numpy(), skip_special_tokens=True)\n",
    "            )\n",
    "\n",
    "    eval_epoch_loss = eval_loss / len(validation_dataloader)\n",
    "    eval_ppl = torch.exp(eval_epoch_loss)\n",
    "    train_epoch_loss = total_loss / len(train_dataloader)\n",
    "    train_ppl = torch.exp(train_epoch_loss)\n",
    "\n",
    "    print(f\"Epoch {epoch}: train_ppl={train_ppl} train_epoch_loss={train_epoch_loss} \"\n",
    "          f\"eval_ppl={eval_ppl} eval_epoch_loss={eval_epoch_loss}\")\n",
    "\n",
    "model.eval()\n",
    "test_loss = 0\n",
    "test_preds = []\n",
    "with torch.no_grad():\n",
    "    for step, batch in enumerate(tqdm(test_dataloader)):\n",
    "        batch = {k: v.squeeze(1).to(device) for k, v in batch.items()}\n",
    "        outputs = model(**batch)\n",
    "        loss = outputs.loss\n",
    "        test_loss += loss.detach().float()\n",
    "        test_preds.extend(\n",
    "            tokenizer.batch_decode(torch.argmax(outputs.logits, -1).detach().cpu().numpy(), skip_special_tokens=True)\n",
    "        )\n",
    "\n",
    "test_epoch_loss = test_loss / len(test_dataloader)\n",
    "test_ppl = torch.exp(test_epoch_loss)\n",
    "print(f\"Test results: test_ppl={test_ppl} test_epoch_loss={test_epoch_loss}\")\n"
   ]
  },
  {
   "cell_type": "code",
   "execution_count": 25,
   "metadata": {
    "execution": {
     "iopub.execute_input": "2024-11-26T20:34:11.780277Z",
     "iopub.status.busy": "2024-11-26T20:34:11.779887Z",
     "iopub.status.idle": "2024-11-26T20:48:09.681156Z",
     "shell.execute_reply": "2024-11-26T20:48:09.680238Z",
     "shell.execute_reply.started": "2024-11-26T20:34:11.780223Z"
    },
    "trusted": true
   },
   "outputs": [
    {
     "name": "stderr",
     "output_type": "stream",
     "text": [
      "100%|██████████| 1502/1502 [13:55<00:00,  1.80it/s]\n"
     ]
    },
    {
     "name": "stdout",
     "output_type": "stream",
     "text": [
      "BLEU score: {'bleu': 0.007531466629111084, 'precisions': [0.3658960542325743, 0.14679368029739778, 0.09089567655304708, 0.06714256155596937], 'brevity_penalty': 0.05597292488875263, 'length_ratio': 0.2575403176166441, 'translation_length': 23012, 'reference_length': 89353}\n",
      "ROUGE score: {'rouge1': 0.1780411931548635, 'rouge2': 0.07503631243217185, 'rougeL': 0.16009409120132367, 'rougeLsum': 0.15975600948420282}\n"
     ]
    }
   ],
   "source": [
    "evaluate_loop(tokenized_dataset['test'])"
   ]
  },
  {
   "cell_type": "code",
   "execution_count": 26,
   "metadata": {
    "execution": {
     "iopub.execute_input": "2024-11-26T20:48:09.682886Z",
     "iopub.status.busy": "2024-11-26T20:48:09.682490Z",
     "iopub.status.idle": "2024-11-26T20:49:23.271701Z",
     "shell.execute_reply": "2024-11-26T20:49:23.270667Z",
     "shell.execute_reply.started": "2024-11-26T20:48:09.682841Z"
    },
    "trusted": true
   },
   "outputs": [
    {
     "name": "stderr",
     "output_type": "stream",
     "text": [
      "100%|██████████| 100/100 [01:13<00:00,  1.36it/s]\n"
     ]
    },
    {
     "name": "stdout",
     "output_type": "stream",
     "text": [
      "BLEU score: {'bleu': 0.03745128961654737, 'precisions': [0.2517894736842105, 0.09226713532513181, 0.06170018281535649, 0.04269449715370019], 'brevity_penalty': 0.42342942699601366, 'length_ratio': 0.5378170289855072, 'translation_length': 2375, 'reference_length': 4416}\n",
      "ROUGE score: {'rouge1': 0.25020286428318306, 'rouge2': 0.12535026103552413, 'rougeL': 0.22422950833509545, 'rougeLsum': 0.22418124131803857}\n"
     ]
    }
   ],
   "source": [
    "evaluate_loop(tokenized_dataset['additional'])"
   ]
  },
  {
   "cell_type": "code",
   "execution_count": 27,
   "metadata": {
    "execution": {
     "iopub.execute_input": "2024-11-26T20:49:23.275146Z",
     "iopub.status.busy": "2024-11-26T20:49:23.274876Z",
     "iopub.status.idle": "2024-11-26T20:49:24.688713Z",
     "shell.execute_reply": "2024-11-26T20:49:24.687970Z",
     "shell.execute_reply.started": "2024-11-26T20:49:23.275119Z"
    },
    "trusted": true
   },
   "outputs": [],
   "source": [
    "torch.save(model, \"flan-t5-dolly-3\")"
   ]
  },
  {
   "cell_type": "code",
   "execution_count": null,
   "metadata": {
    "trusted": true
   },
   "outputs": [],
   "source": [
    "torch.load(\"flan-t5-dolly-3\")"
   ]
  }
 ],
 "metadata": {
  "accelerator": "GPU",
  "colab": {
   "authorship_tag": "ABX9TyN6I/6Hp8ThncpIC7xqsdTV",
   "gpuType": "T4",
   "mount_file_id": "1ctDXT-b0Mijh0uR8AMo9GTz3ufup8mk9",
   "provenance": [
    {
     "file_id": "1QITZv9HpvGehSGJrITk0y9ODkxJx2AzF",
     "timestamp": 1732480926234
    }
   ]
  },
  "kaggle": {
   "accelerator": "nvidiaTeslaT4",
   "dataSources": [],
   "dockerImageVersionId": 30786,
   "isGpuEnabled": true,
   "isInternetEnabled": true,
   "language": "python",
   "sourceType": "notebook"
  },
  "kernelspec": {
   "display_name": "Python 3",
   "language": "python",
   "name": "python3"
  },
  "language_info": {
   "codemirror_mode": {
    "name": "ipython",
    "version": 3
   },
   "file_extension": ".py",
   "mimetype": "text/x-python",
   "name": "python",
   "nbconvert_exporter": "python",
   "pygments_lexer": "ipython3",
   "version": "3.10.14"
  },
  "widgets": {
   "application/vnd.jupyter.widget-state+json": {
    "001443fab20c43ae81d5416690025c17": {
     "model_module": "@jupyter-widgets/controls",
     "model_module_version": "1.5.0",
     "model_name": "FloatProgressModel",
     "state": {
      "_dom_classes": [],
      "_model_module": "@jupyter-widgets/controls",
      "_model_module_version": "1.5.0",
      "_model_name": "FloatProgressModel",
      "_view_count": null,
      "_view_module": "@jupyter-widgets/controls",
      "_view_module_version": "1.5.0",
      "_view_name": "ProgressView",
      "bar_style": "success",
      "description": "",
      "description_tooltip": null,
      "layout": "IPY_MODEL_c2c922f0de6f4c2e9ba3e3477b853eea",
      "max": 1502,
      "min": 0,
      "orientation": "horizontal",
      "style": "IPY_MODEL_db167c3bb63b460e81e021dbded54719",
      "value": 1502
     }
    },
    "0f8af56c34554d5fba97f640769016a8": {
     "model_module": "@jupyter-widgets/base",
     "model_module_version": "1.2.0",
     "model_name": "LayoutModel",
     "state": {
      "_model_module": "@jupyter-widgets/base",
      "_model_module_version": "1.2.0",
      "_model_name": "LayoutModel",
      "_view_count": null,
      "_view_module": "@jupyter-widgets/base",
      "_view_module_version": "1.2.0",
      "_view_name": "LayoutView",
      "align_content": null,
      "align_items": null,
      "align_self": null,
      "border": null,
      "bottom": null,
      "display": null,
      "flex": null,
      "flex_flow": null,
      "grid_area": null,
      "grid_auto_columns": null,
      "grid_auto_flow": null,
      "grid_auto_rows": null,
      "grid_column": null,
      "grid_gap": null,
      "grid_row": null,
      "grid_template_areas": null,
      "grid_template_columns": null,
      "grid_template_rows": null,
      "height": null,
      "justify_content": null,
      "justify_items": null,
      "left": null,
      "margin": null,
      "max_height": null,
      "max_width": null,
      "min_height": null,
      "min_width": null,
      "object_fit": null,
      "object_position": null,
      "order": null,
      "overflow": null,
      "overflow_x": null,
      "overflow_y": null,
      "padding": null,
      "right": null,
      "top": null,
      "visibility": null,
      "width": null
     }
    },
    "10ebba682afb42ad910b8b0788ed8e63": {
     "model_module": "@jupyter-widgets/base",
     "model_module_version": "1.2.0",
     "model_name": "LayoutModel",
     "state": {
      "_model_module": "@jupyter-widgets/base",
      "_model_module_version": "1.2.0",
      "_model_name": "LayoutModel",
      "_view_count": null,
      "_view_module": "@jupyter-widgets/base",
      "_view_module_version": "1.2.0",
      "_view_name": "LayoutView",
      "align_content": null,
      "align_items": null,
      "align_self": null,
      "border": null,
      "bottom": null,
      "display": null,
      "flex": null,
      "flex_flow": null,
      "grid_area": null,
      "grid_auto_columns": null,
      "grid_auto_flow": null,
      "grid_auto_rows": null,
      "grid_column": null,
      "grid_gap": null,
      "grid_row": null,
      "grid_template_areas": null,
      "grid_template_columns": null,
      "grid_template_rows": null,
      "height": null,
      "justify_content": null,
      "justify_items": null,
      "left": null,
      "margin": null,
      "max_height": null,
      "max_width": null,
      "min_height": null,
      "min_width": null,
      "object_fit": null,
      "object_position": null,
      "order": null,
      "overflow": null,
      "overflow_x": null,
      "overflow_y": null,
      "padding": null,
      "right": null,
      "top": null,
      "visibility": null,
      "width": null
     }
    },
    "17f747d391de489d9981b1928f5ccb6d": {
     "model_module": "@jupyter-widgets/base",
     "model_module_version": "1.2.0",
     "model_name": "LayoutModel",
     "state": {
      "_model_module": "@jupyter-widgets/base",
      "_model_module_version": "1.2.0",
      "_model_name": "LayoutModel",
      "_view_count": null,
      "_view_module": "@jupyter-widgets/base",
      "_view_module_version": "1.2.0",
      "_view_name": "LayoutView",
      "align_content": null,
      "align_items": null,
      "align_self": null,
      "border": null,
      "bottom": null,
      "display": null,
      "flex": null,
      "flex_flow": null,
      "grid_area": null,
      "grid_auto_columns": null,
      "grid_auto_flow": null,
      "grid_auto_rows": null,
      "grid_column": null,
      "grid_gap": null,
      "grid_row": null,
      "grid_template_areas": null,
      "grid_template_columns": null,
      "grid_template_rows": null,
      "height": null,
      "justify_content": null,
      "justify_items": null,
      "left": null,
      "margin": null,
      "max_height": null,
      "max_width": null,
      "min_height": null,
      "min_width": null,
      "object_fit": null,
      "object_position": null,
      "order": null,
      "overflow": null,
      "overflow_x": null,
      "overflow_y": null,
      "padding": null,
      "right": null,
      "top": null,
      "visibility": null,
      "width": null
     }
    },
    "30eefbaab9b34a248551037a9e0bd9e7": {
     "model_module": "@jupyter-widgets/controls",
     "model_module_version": "1.5.0",
     "model_name": "DescriptionStyleModel",
     "state": {
      "_model_module": "@jupyter-widgets/controls",
      "_model_module_version": "1.5.0",
      "_model_name": "DescriptionStyleModel",
      "_view_count": null,
      "_view_module": "@jupyter-widgets/base",
      "_view_module_version": "1.2.0",
      "_view_name": "StyleView",
      "description_width": ""
     }
    },
    "72d8550bc33b4fddb2731c99c9ca2dfc": {
     "model_module": "@jupyter-widgets/controls",
     "model_module_version": "1.5.0",
     "model_name": "HBoxModel",
     "state": {
      "_dom_classes": [],
      "_model_module": "@jupyter-widgets/controls",
      "_model_module_version": "1.5.0",
      "_model_name": "HBoxModel",
      "_view_count": null,
      "_view_module": "@jupyter-widgets/controls",
      "_view_module_version": "1.5.0",
      "_view_name": "HBoxView",
      "box_style": "",
      "children": [
       "IPY_MODEL_bf2e124d60f246f99fc55b032e132ff6",
       "IPY_MODEL_001443fab20c43ae81d5416690025c17",
       "IPY_MODEL_c90a60751d574f28964c3b327f0cde85"
      ],
      "layout": "IPY_MODEL_10ebba682afb42ad910b8b0788ed8e63"
     }
    },
    "bf2e124d60f246f99fc55b032e132ff6": {
     "model_module": "@jupyter-widgets/controls",
     "model_module_version": "1.5.0",
     "model_name": "HTMLModel",
     "state": {
      "_dom_classes": [],
      "_model_module": "@jupyter-widgets/controls",
      "_model_module_version": "1.5.0",
      "_model_name": "HTMLModel",
      "_view_count": null,
      "_view_module": "@jupyter-widgets/controls",
      "_view_module_version": "1.5.0",
      "_view_name": "HTMLView",
      "description": "",
      "description_tooltip": null,
      "layout": "IPY_MODEL_17f747d391de489d9981b1928f5ccb6d",
      "placeholder": "​",
      "style": "IPY_MODEL_30eefbaab9b34a248551037a9e0bd9e7",
      "value": "Map: 100%"
     }
    },
    "c2c922f0de6f4c2e9ba3e3477b853eea": {
     "model_module": "@jupyter-widgets/base",
     "model_module_version": "1.2.0",
     "model_name": "LayoutModel",
     "state": {
      "_model_module": "@jupyter-widgets/base",
      "_model_module_version": "1.2.0",
      "_model_name": "LayoutModel",
      "_view_count": null,
      "_view_module": "@jupyter-widgets/base",
      "_view_module_version": "1.2.0",
      "_view_name": "LayoutView",
      "align_content": null,
      "align_items": null,
      "align_self": null,
      "border": null,
      "bottom": null,
      "display": null,
      "flex": null,
      "flex_flow": null,
      "grid_area": null,
      "grid_auto_columns": null,
      "grid_auto_flow": null,
      "grid_auto_rows": null,
      "grid_column": null,
      "grid_gap": null,
      "grid_row": null,
      "grid_template_areas": null,
      "grid_template_columns": null,
      "grid_template_rows": null,
      "height": null,
      "justify_content": null,
      "justify_items": null,
      "left": null,
      "margin": null,
      "max_height": null,
      "max_width": null,
      "min_height": null,
      "min_width": null,
      "object_fit": null,
      "object_position": null,
      "order": null,
      "overflow": null,
      "overflow_x": null,
      "overflow_y": null,
      "padding": null,
      "right": null,
      "top": null,
      "visibility": null,
      "width": null
     }
    },
    "c90a60751d574f28964c3b327f0cde85": {
     "model_module": "@jupyter-widgets/controls",
     "model_module_version": "1.5.0",
     "model_name": "HTMLModel",
     "state": {
      "_dom_classes": [],
      "_model_module": "@jupyter-widgets/controls",
      "_model_module_version": "1.5.0",
      "_model_name": "HTMLModel",
      "_view_count": null,
      "_view_module": "@jupyter-widgets/controls",
      "_view_module_version": "1.5.0",
      "_view_name": "HTMLView",
      "description": "",
      "description_tooltip": null,
      "layout": "IPY_MODEL_0f8af56c34554d5fba97f640769016a8",
      "placeholder": "​",
      "style": "IPY_MODEL_e9b427ecb868470487c5431954a8f6f0",
      "value": " 1502/1502 [00:05&lt;00:00, 351.79 examples/s]"
     }
    },
    "db167c3bb63b460e81e021dbded54719": {
     "model_module": "@jupyter-widgets/controls",
     "model_module_version": "1.5.0",
     "model_name": "ProgressStyleModel",
     "state": {
      "_model_module": "@jupyter-widgets/controls",
      "_model_module_version": "1.5.0",
      "_model_name": "ProgressStyleModel",
      "_view_count": null,
      "_view_module": "@jupyter-widgets/base",
      "_view_module_version": "1.2.0",
      "_view_name": "StyleView",
      "bar_color": null,
      "description_width": ""
     }
    },
    "e9b427ecb868470487c5431954a8f6f0": {
     "model_module": "@jupyter-widgets/controls",
     "model_module_version": "1.5.0",
     "model_name": "DescriptionStyleModel",
     "state": {
      "_model_module": "@jupyter-widgets/controls",
      "_model_module_version": "1.5.0",
      "_model_name": "DescriptionStyleModel",
      "_view_count": null,
      "_view_module": "@jupyter-widgets/base",
      "_view_module_version": "1.2.0",
      "_view_name": "StyleView",
      "description_width": ""
     }
    }
   }
  }
 },
 "nbformat": 4,
 "nbformat_minor": 4
}
